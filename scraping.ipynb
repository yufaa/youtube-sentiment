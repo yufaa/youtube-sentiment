{
 "cells": [
  {
   "cell_type": "code",
   "execution_count": 6,
   "metadata": {},
   "outputs": [
    {
     "name": "stdout",
     "output_type": "stream",
     "text": [
      "Collecting textblob\n",
      "  Downloading textblob-0.18.0.post0-py3-none-any.whl (626 kB)\n",
      "     ------------------------------------ 626.3/626.3 kB 805.3 kB/s eta 0:00:00\n",
      "Collecting nltk>=3.8\n",
      "  Downloading nltk-3.8.1-py3-none-any.whl (1.5 MB)\n",
      "     ---------------------------------------- 1.5/1.5 MB 980.0 kB/s eta 0:00:00\n",
      "Collecting regex>=2021.8.3\n",
      "  Downloading regex-2024.5.15-cp39-cp39-win_amd64.whl (269 kB)\n",
      "     ------------------------------------ 269.0/269.0 kB 826.8 kB/s eta 0:00:00\n",
      "Requirement already satisfied: joblib in c:\\users\\yudha\\miniconda3\\envs\\bengkelkoding\\lib\\site-packages (from nltk>=3.8->textblob) (1.2.0)\n",
      "Requirement already satisfied: tqdm in c:\\users\\yudha\\miniconda3\\envs\\bengkelkoding\\lib\\site-packages (from nltk>=3.8->textblob) (4.65.0)\n",
      "Requirement already satisfied: click in c:\\users\\yudha\\miniconda3\\envs\\bengkelkoding\\lib\\site-packages (from nltk>=3.8->textblob) (8.0.4)\n",
      "Requirement already satisfied: colorama in c:\\users\\yudha\\miniconda3\\envs\\bengkelkoding\\lib\\site-packages (from click->nltk>=3.8->textblob) (0.4.6)\n",
      "Installing collected packages: regex, nltk, textblob\n",
      "Successfully installed nltk-3.8.1 regex-2024.5.15 textblob-0.18.0.post0\n"
     ]
    },
    {
     "name": "stderr",
     "output_type": "stream",
     "text": [
      "WARNING: Ignoring invalid distribution -pencv-python-headless (c:\\users\\yudha\\appdata\\roaming\\python\\python39\\site-packages)\n",
      "WARNING: Ignoring invalid distribution -pencv-python-headless (c:\\users\\yudha\\appdata\\roaming\\python\\python39\\site-packages)\n",
      "WARNING: Ignoring invalid distribution -pencv-python-headless (c:\\users\\yudha\\appdata\\roaming\\python\\python39\\site-packages)\n",
      "WARNING: Ignoring invalid distribution -pencv-python-headless (c:\\users\\yudha\\appdata\\roaming\\python\\python39\\site-packages)\n",
      "WARNING: Ignoring invalid distribution -pencv-python-headless (c:\\users\\yudha\\appdata\\roaming\\python\\python39\\site-packages)\n",
      "WARNING: Ignoring invalid distribution -pencv-python-headless (c:\\users\\yudha\\appdata\\roaming\\python\\python39\\site-packages)\n"
     ]
    }
   ],
   "source": [
    "!pip install textblob\n",
    "\n"
   ]
  },
  {
   "cell_type": "code",
   "execution_count": 8,
   "metadata": {},
   "outputs": [
    {
     "name": "stdout",
     "output_type": "stream",
     "text": [
      "mantap\n",
      "😂😂😂\n",
      "Kalau bukan mas panji yg jadi narasumbernya, gw gak bakal nonton ni konten.\n",
      "Kesimpulan yg saya dpt, kalian berdua tidak melihat dari sisi rakyat. Kalau kalian nanya kenapa pandji semarah itu? Pertanyaan yg sama utk kalian, kenapa kalian gak marah?\n",
      "betul2... bagus2 ni commentnya, udah mulai terang benerang ya...\n",
      "ayo donk host, pilihan pribadi ya pribadi, salah ya salah bener ya bener, kalo temen sy melakukan kesalahan saya membiarkan bahkan membela tanpa tau alasannya dibalik itu nya mungkin, alih2 saya menegur secara baik dan menyadarkan, teman macam apa saya ini.. membiarkan dia jatuh ke jurang kebodohan karena kesalahan dimana ada kesempatan yang saya bisa kasih tau dia.. temen baik itu ngasih tau pas temen salah, dan mengajak bangkit lagi sama2. GItu aja loh.\n",
      "human rights kah konon,... Tolonglah Arie.. masa Anda kaya DPR sih alesannya, ngeles receh itu udah kebca sama netizen..\n",
      "Dengan Anda mengakui hal itu salah untuk dimana ranah total politik adalah tempat pembelajaran public bukan jadi merendahkan harga diri anda kok, dan juga Jokowi kok, tetap banyak kebaikan2 Jokowi yang sampai pada rakyat.\n",
      "\n",
      "Ayo sadar donk Mas Arie dan Budi.. kaya orang baru ke Jakarta aja, kagetan gitu loh. Ato kalo anda kurang mampu kali2 anda diganti host nya sama yg lebih bisa objective, toh rating naik dan anda tetep dapet duit kan, yg penting rakyat yg kurang pintar ga jadi tambah bodoh karena Anda \"ga sadar\" kelepasan akibat ego pro pilihan, \"human right? is fu**up saying from ur mouth.\n",
      "\n",
      "Coba liat deh di Papua , Banten , jawa BArat, Bengkulu, jawa timur, dll... itu turun temurun korupsinya dari pileg2,.. memang bener gitu semua itu.\n",
      "Tapi dengan Presiden nyontohin kaya gitu, juga memberikan alesan para setan koruptor untuk catut alesan itu nanti, itu yg bahaya. terlepas strategi atau akibat hal itu Prabowo jadi menang, baiknya dipisahkan.\n",
      "\n",
      "Pe Er presiden nanti nya musti benerin ini semua... semoga lah bisa, makanya anda bantu rakyat mas arie dan budi, untuk tetap jernih, jangan andanya ga jernih duluan, tutup aja total pilitik kalo gini. cuma mau ngingetin di akhirat nanti anda dipertanggung jawabkan loh, yg nonton berapa juta orang... NGERI\n",
      "\n",
      "Cobalah Total Politik itu membawa bahwa ada harapan untuk kita semua, bahwa politik yg baik sesuai nilai2 budi pekerti bangsa ini, kalo sama kaya dulu politik ya gitu, elite2.. untuk apa??\n",
      "\n",
      "notes: \n",
      "Ga Sadar = Lalai = awal kebodohan = dibenci Tuhan = kebalikan dari manfaat solat atau ritual agama apa pun.\n",
      "\n",
      "Sing Saradar ya...... InsyaAllah... Amin\n",
      "menit 39:05 bilang aja klo luhh emg butuh dan harus bermuka dua dan ngejilat tai😂\n",
      "memperlihatkan kebodohan di depan publik dengan terang terangan itu emg suatu prestasi loh salut gua sama dua host nya 😂\n",
      "omongan tu dua orang kayak omongan anak smp yg masih banyak ngelantur\n",
      "😂 lucu 2 orang ini.sudah jelas arah dan tujuan mereka 😂\n",
      "Hosnya ngeselin\n"
     ]
    }
   ],
   "source": [
    "import pandas as pd\n",
    "\n",
    "## Call the \"build()\" function from the Python-client\n",
    "from googleapiclient.discovery import build\n",
    "\n",
    "api_key = input(\"API KEY: \")\n",
    "youtube = build(\"youtube\",\"v3\", developerKey=api_key)\n",
    "url = input(\"VIDEOURL: \")\n",
    "\n",
    "def get_comments(url):\n",
    "    # Get the ID of the video by splitting the URL\n",
    "    single_video_id = url.split(\"=\")[1].split(\"&\")[0]\n",
    "    # Use the list() method to extract a JSON with key information\n",
    "    # from the video.\n",
    "    video_list=youtube.videos().list(part=\"snippet\",id=single_video_id).execute()\n",
    "    channel_id= video_list[\"items\"][0][\"snippet\"][\"channelId\"]\n",
    "    title_single_video= video_list[\"items\"][0][\"snippet\"][\"title\"]\n",
    "    playlist_id = None\n",
    "    forUserName = None\n",
    "\n",
    "    nextPageToken_comments = None\n",
    "    commentsone=[]\n",
    "\n",
    "    while True:\n",
    "        #Request the first 50 videos of a channel. This is the full dictionary. The result is store in a variable called \"pl_response\".\n",
    "        #PageToken at this point is \"None\"\n",
    "        pl_request_comment= youtube.commentThreads().list(part=[\"snippet\",\"replies\"],\n",
    "                                            videoId=single_video_id,\n",
    "                                            maxResults=50,\n",
    "                                            pageToken= nextPageToken_comments)\n",
    "        pl_response_comment = pl_request_comment.execute()\n",
    "\n",
    "        ## Send the amount of views and the URL of each video to the videos empty list that was declared at the beginning of the code.\n",
    "        for i in pl_response_comment[\"items\"]:\n",
    "            vid_comments = i[\"snippet\"][\"topLevelComment\"][\"snippet\"][\"textOriginal\"]\n",
    "            comm_author = i[\"snippet\"][\"topLevelComment\"][\"snippet\"][\"authorDisplayName\"]\n",
    "            comm_author_id = i[\"snippet\"][\"topLevelComment\"][\"snippet\"][\"authorChannelId\"][\"value\"]\n",
    "            comm_date = i[\"snippet\"][\"topLevelComment\"][\"snippet\"][\"publishedAt\"]\n",
    "            comm_likes = i[\"snippet\"][\"topLevelComment\"][\"snippet\"][\"likeCount\"]\n",
    "            new_var=i.get(\"replies\",\"0\")\n",
    "\n",
    "            commentsone.append({\n",
    "                \"comm_date\":comm_date,\n",
    "                \"author\":comm_author,\n",
    "                \"author_id\":comm_author_id,\n",
    "                \"likes\":comm_likes,\n",
    "                \"comment\":vid_comments,\n",
    "                \"video_id\":single_video_id\n",
    "            })\n",
    "\n",
    "\n",
    "\n",
    "        nextPageToken_comments = pl_response_comment.get(\"nextPageToken\")\n",
    "\n",
    "        if not nextPageToken_comments:\n",
    "            break\n",
    "\n",
    "    for i in commentsone[:10]:\n",
    "        print(i[\"comment\"])\n",
    "\n",
    "\n",
    "    pd.DataFrame.from_dict(commentsone).to_csv(\"dataset.csv\")\n",
    "\n",
    "get_comments(url)"
   ]
  }
 ],
 "metadata": {
  "kernelspec": {
   "display_name": "bengkelkoding",
   "language": "python",
   "name": "python3"
  },
  "language_info": {
   "codemirror_mode": {
    "name": "ipython",
    "version": 3
   },
   "file_extension": ".py",
   "mimetype": "text/x-python",
   "name": "python",
   "nbconvert_exporter": "python",
   "pygments_lexer": "ipython3",
   "version": "3.9.16"
  }
 },
 "nbformat": 4,
 "nbformat_minor": 2
}
